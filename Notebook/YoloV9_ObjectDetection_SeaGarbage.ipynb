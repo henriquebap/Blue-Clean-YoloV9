Introdução
Este notebook demonstra como treinar um modelo YOLOv9 para a detecção de objetos em um dataset customizado de "Lixo no Mar". O objetivo é detectar e classificar diferentes tipos de resíduos encontrados em praias e corpos d'água.

Neste projeto, utilizamos diversas ferramentas e bibliotecas, incluindo:

YOLOv9: Para a criação e treinamento do modelo de detecção.
Roboflow: Para a gestão e download do dataset.
Supervision: Para a anotação e visualização das detecções.